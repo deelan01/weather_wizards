{
 "cells": [
  {
   "cell_type": "code",
   "execution_count": null,
   "metadata": {},
   "outputs": [],
   "source": [
    "import import_ipynb as ipynb\n",
    "from postgres_load_databases import createDatabase\n",
    "object_names = ['contacts','subcategory','category','campaign']\n",
    "database_info = ['Resources/create_crowdfunding_db.sql', 'Resources/crowdfunding_db_schema.sql']\n",
    "createDatabase(database_info,object_names)\n",
    "\n",
    "\n",
    "# Pass the collection names\n",
    "from mongodb_load_databases import createMongoDBCluster, validateMongoDBCluster\n",
    "db_name = 'crowdfunding_db'\n",
    "createMongoDBCluster(db_name, object_names)\n",
    "validateMongoDBCluster(db_name)"
   ]
  }
 ],
 "metadata": {
  "language_info": {
   "name": "python"
  }
 },
 "nbformat": 4,
 "nbformat_minor": 2
}
