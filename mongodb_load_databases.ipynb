{
 "cells": [
  {
   "cell_type": "code",
   "execution_count": 1,
   "metadata": {},
   "outputs": [],
   "source": [
    "# Local application imports\n",
    "from utils import mongoListDatabases, mongoListCollections, mongoImportFile"
   ]
  },
  {
   "cell_type": "code",
   "execution_count": null,
   "metadata": {},
   "outputs": [],
   "source": [
    "db_name = 'weather_wizards'\n",
    "file_type = 'csv'\n",
    "\n",
    "collection_name = 'swdiws_nx3tvs_geojson'\n",
    "file_path = '/Users/jhammans/Documents/RutgersBootcamp/GitHub/DataStormers/data/swdiws_nx3tvs_geojson.csv'\n",
    "result = mongoImportFile(db_name, collection_name, file_type, file_path, headerline=True, drop=True)\n",
    "print(result)\n",
    "\n",
    "collection_name = 'radar_locations'\n",
    "file_path = '/Users/jhammans/Documents/RutgersBootcamp/GitHub/DataStormers/data/radar_locations.csv'\n",
    "result = mongoImportFile(db_name, collection_name, file_type, file_path, headerline=True, drop=True)\n",
    "print(result)\n",
    "\n",
    "databases = mongoListDatabases()\n",
    "for database in databases:\n",
    "    print(f\"{database}\")\n",
    "    collections = mongoListCollections(database)\n",
    "    for collection in collections:\n",
    "        print(f\"\\t{collection}\")"
   ]
  }
 ],
 "metadata": {
  "kernelspec": {
   "display_name": "pythondata",
   "language": "python",
   "name": "python3"
  },
  "language_info": {
   "codemirror_mode": {
    "name": "ipython",
    "version": 3
   },
   "file_extension": ".py",
   "mimetype": "text/x-python",
   "name": "python",
   "nbconvert_exporter": "python",
   "pygments_lexer": "ipython3",
   "version": "3.10.14"
  }
 },
 "nbformat": 4,
 "nbformat_minor": 4
}
