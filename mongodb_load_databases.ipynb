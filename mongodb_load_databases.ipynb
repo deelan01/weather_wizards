{
 "cells": [
  {
   "cell_type": "code",
   "execution_count": 2,
   "metadata": {},
   "outputs": [],
   "source": [
    "# Standard library imports\n",
    "from pathlib import Path\n",
    "\n",
    "# Import Dependencies\n",
    "from pprint import pprint\n",
    "\n",
    "# Local application imports\n",
    "from utils import mongoListDatabases, mongoListCollections, mongoImportFile"
   ]
  },
  {
   "cell_type": "code",
   "execution_count": null,
   "metadata": {},
   "outputs": [],
   "source": [
    "# Example usage\n",
    "# result_message, imported_count = mongoImportFile(\"my_database\", \"my_collection\", \"csv\", \"data.csv\", headerline=True, drop=True)\n",
    "# print(result_message, f\"Imported record count: {imported_count}\")\n",
    "\n",
    "databases = mongoListDatabases()\n",
    "for database in databases:\n",
    "    print(f\"{database}\")\n",
    "    collections = mongoListCollections(database)\n",
    "    for collection in collections:\n",
    "        print(f\"\\t{collection}\")"
   ]
  }
 ],
 "metadata": {
  "kernelspec": {
   "display_name": "pythondata",
   "language": "python",
   "name": "python3"
  },
  "language_info": {
   "codemirror_mode": {
    "name": "ipython",
    "version": 3
   },
   "file_extension": ".py",
   "mimetype": "text/x-python",
   "name": "python",
   "nbconvert_exporter": "python",
   "pygments_lexer": "ipython3",
   "version": "3.10.14"
  }
 },
 "nbformat": 4,
 "nbformat_minor": 4
}
