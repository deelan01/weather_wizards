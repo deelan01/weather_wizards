{
 "cells": [
  {
   "cell_type": "code",
   "execution_count": 1,
   "metadata": {},
   "outputs": [],
   "source": [
    "# Local application imports\n",
    "from utils import mongoListDatabases, mongoListCollections, mongoImportFile"
   ]
  },
  {
   "cell_type": "code",
   "execution_count": 2,
   "metadata": {},
   "outputs": [
    {
     "name": "stderr",
     "output_type": "stream",
     "text": [
      "2024-10-06T12:32:13.223-0700\tconnected to: mongodb+srv://[**REDACTED**]@mongofreecluster.xk1c6.mongodb.net/?tls=true\n",
      "2024-10-06T12:32:13.273-0700\tdropping: weather_wizards.swdiws_nx3tvs_geojson\n",
      "2024-10-06T12:32:16.224-0700\t[###################.....] weather_wizards.swdiws_nx3tvs_geojson\t140KB/168KB (83.3%)\n",
      "2024-10-06T12:32:19.224-0700\t[########################] weather_wizards.swdiws_nx3tvs_geojson\t168KB/168KB (100.0%)\n",
      "2024-10-06T12:32:20.937-0700\t[########################] weather_wizards.swdiws_nx3tvs_geojson\t168KB/168KB (100.0%)\n",
      "2024-10-06T12:32:20.937-0700\t2500 document(s) imported successfully. 0 document(s) failed to import.\n"
     ]
    },
    {
     "name": "stdout",
     "output_type": "stream",
     "text": [
      "('Imported /Users/jhammans/Documents/RutgersBootcamp/GitHub/DataStormers/data/swdiws_nx3tvs_geojson.csv into collection swdiws_nx3tvs_geojson successfully.', 2500)\n"
     ]
    },
    {
     "name": "stderr",
     "output_type": "stream",
     "text": [
      "2024-10-06T12:32:22.199-0700\tconnected to: mongodb+srv://[**REDACTED**]@mongofreecluster.xk1c6.mongodb.net/?tls=true\n",
      "2024-10-06T12:32:22.250-0700\tdropping: weather_wizards.radar_locations\n",
      "2024-10-06T12:32:22.925-0700\t192 document(s) imported successfully. 0 document(s) failed to import.\n"
     ]
    },
    {
     "name": "stdout",
     "output_type": "stream",
     "text": [
      "('Imported /Users/jhammans/Documents/RutgersBootcamp/GitHub/DataStormers/data/radar_locations.csv into collection radar_locations successfully.', 192)\n",
      "crowdfunding_db\n",
      "\tsubcategory\n",
      "\tcategory\n",
      "\tcampaign\n",
      "\tcontacts\n",
      "sample_mflix\n",
      "\tembedded_movies\n",
      "\tsessions\n",
      "\tmovies\n",
      "\tcomments\n",
      "\tusers\n",
      "\ttheaters\n",
      "testing\n",
      "\tsample_collection\n",
      "weather_wizards\n",
      "\tswdiws_nx3tvs_geojson\n",
      "\tradar_locations\n"
     ]
    }
   ],
   "source": [
    "db_name = 'weather_wizards'\n",
    "file_type = 'csv'\n",
    "\n",
    "collection_name = 'swdiws_nx3tvs_geojson'\n",
    "file_path = '/Users/jhammans/Documents/RutgersBootcamp/GitHub/DataStormers/data/swdiws_nx3tvs_geojson.csv'\n",
    "result = mongoImportFile(db_name, collection_name, file_type, file_path, headerline=True, drop=True)\n",
    "print(result)\n",
    "\n",
    "collection_name = 'radar_locations'\n",
    "file_path = '/Users/jhammans/Documents/RutgersBootcamp/GitHub/DataStormers/data/radar_locations.csv'\n",
    "result = mongoImportFile(db_name, collection_name, file_type, file_path, headerline=True, drop=True)\n",
    "print(result)\n",
    "\n",
    "databases = mongoListDatabases()\n",
    "for database in databases:\n",
    "    print(f\"{database}\")\n",
    "    collections = mongoListCollections(database)\n",
    "    for collection in collections:\n",
    "        print(f\"\\t{collection}\")"
   ]
  }
 ],
 "metadata": {
  "kernelspec": {
   "display_name": "pythondata",
   "language": "python",
   "name": "python3"
  },
  "language_info": {
   "codemirror_mode": {
    "name": "ipython",
    "version": 3
   },
   "file_extension": ".py",
   "mimetype": "text/x-python",
   "name": "python",
   "nbconvert_exporter": "python",
   "pygments_lexer": "ipython3",
   "version": "3.10.14"
  }
 },
 "nbformat": 4,
 "nbformat_minor": 4
}
