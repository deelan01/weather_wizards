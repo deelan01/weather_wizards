{
 "cells": [
  {
   "cell_type": "code",
   "execution_count": 11,
   "metadata": {},
   "outputs": [],
   "source": [
    "# Local application imports\n",
    "from utils import postgresListDatabases, postgresListTables, postgresImportFile, postgresRunSqlScript"
   ]
  },
  {
   "cell_type": "code",
   "execution_count": null,
   "metadata": {},
   "outputs": [],
   "source": [
    "db_name='weather_wizards'\n",
    "\n",
    "sql_file = 'sql/updated_schema.sql'\n",
    "result = postgresRunSqlScript(db_name, sql_file)\n",
    "print(result)\n",
    "\n",
    "sql_file = 'sql/swdiws_nx3tvs.sql'\n",
    "result = postgresRunSqlScript(db_name, sql_file)\n",
    "print(result)\n",
    "\n",
    "table_name = 'swdiws_nx3tvs_geojson'\n",
    "file_location = 'data/swdiws_nx3tvs_geojson.csv'\n",
    "load_count = postgresImportFile(db_name, table_name, file_location, delimiter=',', headerline=True)  \n",
    "print (f\"Loaded {load_count} records to {table_name}\")     \n",
    "\n",
    "table_name = 'radar_station'\n",
    "file_location = 'data/radar_locations.csv'\n",
    "load_count = postgresImportFile(db_name, table_name, file_location, delimiter=',', headerline=True)  \n",
    "print (f\"Loaded {load_count} records to {table_name}\")\n",
    "\n",
    "databases = postgresListDatabases()\n",
    "for database in databases:\n",
    "    print(f\"{database}\")\n",
    "    tables = postgresListTables(database)\n",
    "    for table in tables:\n",
    "        print(f\"\\t{table}\")"
   ]
  },
  {
   "cell_type": "code",
   "execution_count": null,
   "metadata": {},
   "outputs": [],
   "source": [
    "db_name='weather_wizards'\n",
    "\n",
    "sql_file = 'sql/hurricane_summary_staging.sql'\n",
    "result = postgresRunSqlScript(db_name, sql_file)\n",
    "print(result)"
   ]
  },
  {
   "cell_type": "code",
   "execution_count": null,
   "metadata": {},
   "outputs": [],
   "source": [
    "table_name = 'hurricane_summary_staging'\n",
    "file_location = 'data/hurricane_summary.csv'\n",
    "load_count = postgresImportFile(db_name, table_name, file_location, delimiter=',', headerline=True)  \n",
    "print (f\"Loaded {load_count} records to {table_name}\")"
   ]
  },
  {
   "cell_type": "code",
   "execution_count": 2,
   "metadata": {},
   "outputs": [
    {
     "name": "stdout",
     "output_type": "stream",
     "text": [
      "Successfully executed 2 commands from sql/hurricane_details_staging.sql.\n"
     ]
    }
   ],
   "source": [
    "db_name='weather_wizards'\n",
    "\n",
    "sql_file = 'sql/hurricane_details_staging.sql'\n",
    "result = postgresRunSqlScript(db_name, sql_file)\n",
    "print(result)"
   ]
  },
  {
   "cell_type": "code",
   "execution_count": 3,
   "metadata": {},
   "outputs": [
    {
     "name": "stdout",
     "output_type": "stream",
     "text": [
      "Loaded ('Successfully imported 5001 records from data/hurricane_details.csv into hurricane_details_staging.', 5001) records to hurricane_details_staging\n"
     ]
    }
   ],
   "source": [
    "table_name = 'hurricane_details_staging'\n",
    "file_location = 'data/hurricane_details.csv'\n",
    "load_count = postgresImportFile(db_name, table_name, file_location, delimiter=',', headerline=True)  \n",
    "print (f\"Loaded {load_count} records to {table_name}\")"
   ]
  },
  {
   "cell_type": "code",
   "execution_count": 4,
   "metadata": {},
   "outputs": [
    {
     "name": "stdout",
     "output_type": "stream",
     "text": [
      "Loaded ('Successfully imported 7917 records from data/hurricane_details_retired.csv into hurricane_details_staging.', 7917) records to hurricane_details_staging\n"
     ]
    }
   ],
   "source": [
    "file_location = 'data/hurricane_details_retired.csv'\n",
    "load_count = postgresImportFile(db_name, table_name, file_location, delimiter=',', headerline=True)  \n",
    "print (f\"Loaded {load_count} records to {table_name}\")"
   ]
  },
  {
   "cell_type": "code",
   "execution_count": 10,
   "metadata": {},
   "outputs": [
    {
     "name": "stdout",
     "output_type": "stream",
     "text": [
      "Successfully executed 2 commands from sql/hurricane_archive_summary_staging.sql.\n"
     ]
    }
   ],
   "source": [
    "sql_file = 'sql/hurricane_archive_summary_staging.sql'\n",
    "result = postgresRunSqlScript(db_name, sql_file)\n",
    "print(result)"
   ]
  },
  {
   "cell_type": "code",
   "execution_count": 11,
   "metadata": {},
   "outputs": [
    {
     "name": "stdout",
     "output_type": "stream",
     "text": [
      "Loaded ('Successfully imported 168 records from data/hurricane_archive_summary.csv into hurricane_archive_summary_staging.', 168) records to hurricane_archive_summary_staging\n"
     ]
    }
   ],
   "source": [
    "table_name = 'hurricane_archive_summary_staging'\n",
    "file_location = 'data/hurricane_archive_summary.csv'\n",
    "load_count = postgresImportFile(db_name, table_name, file_location, delimiter=',', headerline=True)  \n",
    "print (f\"Loaded {load_count} records to {table_name}\")"
   ]
  }
 ],
 "metadata": {
  "kernelspec": {
   "display_name": "pythondata",
   "language": "python",
   "name": "python3"
  },
  "language_info": {
   "codemirror_mode": {
    "name": "ipython",
    "version": 3
   },
   "file_extension": ".py",
   "mimetype": "text/x-python",
   "name": "python",
   "nbconvert_exporter": "python",
   "pygments_lexer": "ipython3",
   "version": "3.10.14"
  }
 },
 "nbformat": 4,
 "nbformat_minor": 4
}
