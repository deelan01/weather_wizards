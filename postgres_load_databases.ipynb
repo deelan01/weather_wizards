{
 "cells": [
  {
   "cell_type": "code",
   "execution_count": 1,
   "metadata": {},
   "outputs": [],
   "source": [
    "# Local application imports\n",
    "from utils import postgresListDatabases, postgresListTables, postgresImportFile, postgresRunSqlScript"
   ]
  },
  {
   "cell_type": "code",
   "execution_count": null,
   "metadata": {},
   "outputs": [],
   "source": [
    "db_name='weather_wizards'\n",
    "\n",
    "sql_file = 'sql/schema.sql'\n",
    "result = postgresRunSqlScript(db_name, sql_file)\n",
    "print(result)\n",
    "\n",
    "sql_file = 'sql/swdiws_nx3tvs.sql'\n",
    "result = postgresRunSqlScript(db_name, sql_file)\n",
    "print(result)\n",
    "\n",
    "table_name = 'swdiws_nx3tvs_geojson'\n",
    "file_location = 'data/swdiws_nx3tvs_geojson.csv'\n",
    "load_count = postgresImportFile(db_name, table_name, file_location, delimiter=',', headerline=True)  \n",
    "print (f\"Loaded {load_count} records to {table_name}\")     \n",
    "\n",
    "table_name = 'radar_station'\n",
    "file_location = 'data/radar_locations.csv'\n",
    "load_count = postgresImportFile(db_name, table_name, file_location, delimiter=',', headerline=True)  \n",
    "print (f\"Loaded {load_count} records to {table_name}\")\n",
    "\n",
    "databases = postgresListDatabases()\n",
    "for database in databases:\n",
    "    print(f\"{database}\")\n",
    "    tables = postgresListTables(database)\n",
    "    for table in tables:\n",
    "        print(f\"\\t{table}\")"
   ]
  },
  {
   "cell_type": "code",
   "execution_count": null,
   "metadata": {},
   "outputs": [],
   "source": [
    "db_name='weather_wizards'\n",
    "\n",
    "sql_file = 'sql/hurricane_summary_staging.sql'\n",
    "result = postgresRunSqlScript(db_name, sql_file)\n",
    "print(result)\n"
   ]
  },
  {
   "cell_type": "code",
   "execution_count": null,
   "metadata": {},
   "outputs": [],
   "source": [
    "\n",
    "table_name = 'hurricane_summary_staging'\n",
    "file_location = 'data/hurricane_summary.csv'\n",
    "load_count = postgresImportFile(db_name, table_name, file_location, delimiter=',', headerline=True)  \n",
    "print (f\"Loaded {load_count} records to {table_name}\")"
   ]
  }
 ],
 "metadata": {
  "kernelspec": {
   "display_name": "pythondata",
   "language": "python",
   "name": "python3"
  },
  "language_info": {
   "codemirror_mode": {
    "name": "ipython",
    "version": 3
   },
   "file_extension": ".py",
   "mimetype": "text/x-python",
   "name": "python",
   "nbconvert_exporter": "python",
   "pygments_lexer": "ipython3",
   "version": "3.10.14"
  }
 },
 "nbformat": 4,
 "nbformat_minor": 4
}
