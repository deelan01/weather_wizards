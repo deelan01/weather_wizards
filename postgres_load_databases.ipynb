{
 "cells": [
  {
   "cell_type": "code",
   "execution_count": 1,
   "metadata": {},
   "outputs": [],
   "source": [
    "# Local application imports\n",
    "from utils import postgresListDatabases, postgresListTables, postgresImportFile, postgresRunSqlScript"
   ]
  },
  {
   "cell_type": "code",
   "execution_count": 2,
   "metadata": {},
   "outputs": [
    {
     "name": "stdout",
     "output_type": "stream",
     "text": [
      "Successfully executed 29 commands from sql/schema.sql.\n",
      "Successfully executed 2 commands from sql/swdiws_nx3tvs.sql.\n",
      "Loaded 2500 records to swdiws_nx3tvs_geojson\n",
      "Loaded 192 records to radar_station\n",
      "city_info\n",
      "\tcities\n",
      "\tmovie_words_comparison\n",
      "\tpeople\n",
      "\tprogramming_languages\n",
      "programming_db\n",
      "movie\n",
      "\tmovie_table\n",
      "crud\n",
      "act2\n",
      "\tactor\n",
      "\tevr-import\n",
      "pets_db\n",
      "\towners\n",
      "\tpet_names\n",
      "\tpet_names_and_owners\n",
      "\tpet_names_updated\n",
      "\tservice\n",
      "foreignk_db\n",
      "\tcustomer\n",
      "\tcustomer_email\n",
      "\tcustomer_phone\n",
      "relationship_db\n",
      "\tcourses\n",
      "\tstudent_courses_junction\n",
      "\tstudents\n",
      "weather_wizards\n",
      "\timpact_type\n",
      "\tradar_station\n",
      "\tregion\n",
      "\tswdiws_nx3tvs_geojson\n",
      "\tweather_event\n",
      "\tweather_event_cost_impact\n",
      "\tweather_event_human_impact\n",
      "\tweather_event_radar\n",
      "\tweather_event_type\n"
     ]
    }
   ],
   "source": [
    "db_name='weather_wizards'\n",
    "\n",
    "sql_file = 'sql/schema.sql'\n",
    "result = postgresRunSqlScript(db_name, sql_file)\n",
    "print(result)\n",
    "\n",
    "sql_file = 'sql/swdiws_nx3tvs.sql'\n",
    "result = postgresRunSqlScript(db_name, sql_file)\n",
    "print(result)\n",
    "\n",
    "table_name = 'swdiws_nx3tvs_geojson'\n",
    "file_location = 'data/swdiws_nx3tvs_geojson.csv'\n",
    "load_count = postgresImportFile(db_name, table_name, file_location, delimiter=',', headerline=True)  \n",
    "print (f\"Loaded {load_count} records to {table_name}\")     \n",
    "\n",
    "table_name = 'radar_station'\n",
    "file_location = 'data/radar_locations.csv'\n",
    "load_count = postgresImportFile(db_name, table_name, file_location, delimiter=',', headerline=True)  \n",
    "print (f\"Loaded {load_count} records to {table_name}\")\n",
    "\n",
    "databases = postgresListDatabases()\n",
    "for database in databases:\n",
    "    print(f\"{database}\")\n",
    "    tables = postgresListTables(database)\n",
    "    for table in tables:\n",
    "        print(f\"\\t{table}\")"
   ]
  },
  {
   "cell_type": "code",
   "execution_count": null,
   "metadata": {},
   "outputs": [],
   "source": []
  }
 ],
 "metadata": {
  "kernelspec": {
   "display_name": "Python 3 (ipykernel)",
   "language": "python",
   "name": "python3"
  },
  "language_info": {
   "codemirror_mode": {
    "name": "ipython",
    "version": 3
   },
   "file_extension": ".py",
   "mimetype": "text/x-python",
   "name": "python",
   "nbconvert_exporter": "python",
   "pygments_lexer": "ipython3",
   "version": "3.12.4"
  }
 },
 "nbformat": 4,
 "nbformat_minor": 4
}
