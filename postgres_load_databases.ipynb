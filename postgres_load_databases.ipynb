{
 "cells": [
  {
   "cell_type": "code",
   "execution_count": 1,
   "metadata": {},
   "outputs": [],
   "source": [
    "# Local application imports\n",
    "from utils import postgresListDatabases, postgresListTables, postgresImportFile, postgresRunSqlScript"
   ]
  },
  {
   "cell_type": "code",
   "execution_count": 2,
   "metadata": {},
   "outputs": [
    {
     "name": "stderr",
     "output_type": "stream",
     "text": [
      "ERROR:root:Error importing file data/radar_locations.csv into table radar_station: duplicate key value violates unique constraint \"radar_station_radar_name_key\"\n",
      "DETAIL:  Key (radar_name)=(KABR) already exists.\n",
      "CONTEXT:  COPY radar_station, line 2\n",
      "\n"
     ]
    },
    {
     "name": "stdout",
     "output_type": "stream",
     "text": [
      "Successfully executed 29 commands from sql/schema.sql.\n",
      "Successfully executed 2 commands from sql/swdiws_nx3tvs.sql.\n",
      "Loaded 2500 records to swdiws_nx3tvs_geojson\n",
      "Loaded 0 records to radar_station\n",
      "dvdrental\n",
      "\tactor\n",
      "\tactor_info\n",
      "\taddress\n",
      "\tcategory\n",
      "\tcity\n",
      "\tcountry\n",
      "\tcustomer\n",
      "\tcustomer_list\n",
      "\tfilm\n",
      "\tfilm_actor\n",
      "\tfilm_category\n",
      "\tfilm_list\n",
      "\tinventory\n",
      "\tlanguage\n",
      "\tnicer_but_slower_film_list\n",
      "\tpayment\n",
      "\trental\n",
      "\tsales_by_film_category\n",
      "\tsales_by_store\n",
      "\tstaff\n",
      "\tstaff_list\n",
      "\tstore\n",
      "animals_db\n",
      "\tfauna_vertabrate\n",
      "\tmovie_words_comparison\n",
      "\tpeople\n",
      "city_info\n",
      "\tcities\n",
      "\tpeople\n",
      "programming_db\n",
      "\tprogramming_language\n",
      "Miscellaneous_DB\n",
      "\tmovie_words_comparison\n",
      "Activity 1\n",
      "\tactor\n",
      "\taddress\n",
      "\tcity\n",
      "\tcountry\n",
      "\tcustomer\n",
      "\tcustomer_list\n",
      "\tfilm\n",
      "\tfilm_actor\n",
      "\tinventory\n",
      "\tpayment\n",
      "\trental\n",
      "\tstaff\n",
      "\tstore\n",
      "\ttotal_sales\n",
      "pets_db\n",
      "\tanimals_all\n",
      "\tanimals_location\n",
      "\towners\n",
      "\tpet_names\n",
      "business_DB\n",
      "\tcustomers\n",
      "SQL_challenge \n",
      "\tdepartments\n",
      "\tdept_emp\n",
      "\tdept_manager\n",
      "\temployees\n",
      "\tsalaries\n",
      "\ttitles\n",
      "Project 3\n",
      "\tradar_station\n",
      "\tstorm_radar\n",
      "\tstorm_type\n",
      "\tweather_event\n",
      "weather_wizards\n",
      "\timpact_type\n",
      "\tradar_station\n",
      "\tregion\n",
      "\tswdiws_nx3tvs_geojson\n",
      "\tweather_event\n",
      "\tweather_event_cost_impact\n",
      "\tweather_event_human_impact\n",
      "\tweather_event_radar\n",
      "\tweather_event_type\n"
     ]
    }
   ],
   "source": [
    "db_name='weather_wizards'\n",
    "\n",
    "sql_file = 'sql/schema.sql'\n",
    "result = postgresRunSqlScript(db_name, sql_file)\n",
    "print(result)\n",
    "\n",
    "sql_file = 'sql/swdiws_nx3tvs.sql'\n",
    "result = postgresRunSqlScript(db_name, sql_file)\n",
    "print(result)\n",
    "\n",
    "table_name = 'swdiws_nx3tvs_geojson'\n",
    "file_location = 'data/swdiws_nx3tvs_geojson.csv'\n",
    "load_count = postgresImportFile(db_name, table_name, file_location, delimiter=',', headerline=True)  \n",
    "print (f\"Loaded {load_count} records to {table_name}\")     \n",
    "\n",
    "table_name = 'radar_station'\n",
    "file_location = 'data/radar_locations.csv'\n",
    "load_count = postgresImportFile(db_name, table_name, file_location, delimiter=',', headerline=True)  \n",
    "print (f\"Loaded {load_count} records to {table_name}\")\n",
    "\n",
    "databases = postgresListDatabases()\n",
    "for database in databases:\n",
    "    print(f\"{database}\")\n",
    "    tables = postgresListTables(database)\n",
    "    for table in tables:\n",
    "        print(f\"\\t{table}\")"
   ]
  },
  {
   "cell_type": "code",
   "execution_count": 3,
   "metadata": {},
   "outputs": [
    {
     "name": "stdout",
     "output_type": "stream",
     "text": [
      "Successfully executed 2 commands from sql/hurricane_summary_staging.sql.\n"
     ]
    }
   ],
   "source": [
    "db_name='weather_wizards'\n",
    "\n",
    "sql_file = 'sql/hurricane_summary_staging.sql'\n",
    "result = postgresRunSqlScript(db_name, sql_file)\n",
    "print(result)\n"
   ]
  },
  {
   "cell_type": "code",
   "execution_count": 4,
   "metadata": {},
   "outputs": [
    {
     "name": "stdout",
     "output_type": "stream",
     "text": [
      "Loaded 901 records to hurricane_summary_staging\n"
     ]
    }
   ],
   "source": [
    "\n",
    "table_name = 'hurricane_summary_staging'\n",
    "file_location = 'data/hurricane_summary.csv'\n",
    "load_count = postgresImportFile(db_name, table_name, file_location, delimiter=',', headerline=True)  \n",
    "print (f\"Loaded {load_count} records to {table_name}\")"
   ]
  },
  {
   "cell_type": "code",
   "execution_count": 8,
   "metadata": {},
   "outputs": [
    {
     "name": "stdout",
     "output_type": "stream",
     "text": [
      "Successfully executed 2 commands from sql\\hurricane_archive_summary_staging.sql.\n"
     ]
    }
   ],
   "source": [
    "db_name='weather_wizards'\n",
    "\n",
    "sql_file = 'sql\\hurricane_archive_summary_staging.sql'\n",
    "result = postgresRunSqlScript(db_name, sql_file)\n",
    "print(result)"
   ]
  },
  {
   "cell_type": "code",
   "execution_count": 11,
   "metadata": {},
   "outputs": [
    {
     "name": "stdout",
     "output_type": "stream",
     "text": [
      "Loaded 168 records to hurricane_archive_summary_staging\n"
     ]
    }
   ],
   "source": [
    "table_name = 'hurricane_archive_summary_staging'\n",
    "file_location = 'data\\hurricane_archive_summary.csv'\n",
    "load_count = postgresImportFile(db_name, table_name, file_location, delimiter=',', headerline=True)  \n",
    "print (f\"Loaded {load_count} records to {table_name}\")"
   ]
  },
  {
   "cell_type": "code",
   "execution_count": null,
   "metadata": {},
   "outputs": [],
   "source": []
  }
 ],
 "metadata": {
  "kernelspec": {
   "display_name": "Python 3 (ipykernel)",
   "language": "python",
   "name": "python3"
  },
  "language_info": {
   "codemirror_mode": {
    "name": "ipython",
    "version": 3
   },
   "file_extension": ".py",
   "mimetype": "text/x-python",
   "name": "python",
   "nbconvert_exporter": "python",
   "pygments_lexer": "ipython3",
   "version": "3.10.14"
  }
 },
 "nbformat": 4,
 "nbformat_minor": 4
}
