{
 "cells": [
  {
   "cell_type": "code",
   "execution_count": 37,
   "metadata": {},
   "outputs": [],
   "source": [
    "# Local application imports\n",
    "from utils import postgresListDatabases, postgresListTables, postgresImportFile, postgresRunSqlScript, postgresGetCredentials\n",
    "\n",
    "import pandas as pd\n",
    "from sqlalchemy import create_engine\n",
    "from sklearn.neighbors import KDTree"
   ]
  },
  {
   "cell_type": "code",
   "execution_count": 38,
   "metadata": {},
   "outputs": [
    {
     "name": "stdout",
     "output_type": "stream",
     "text": [
      "Successfully executed 16 commands from sql/updated_schema.sql.\n",
      "Successfully executed 2 commands from sql/swdiws_nx3tvs.sql.\n",
      "Loaded ('Successfully imported 2500 records from data/swdiws_nx3tvs_geojson.csv into swdiws_nx3tvs_geojson.', 2500) records to swdiws_nx3tvs_geojson\n",
      "Loaded ('Successfully imported 192 records from data/radar_locations.csv into radar_station.', 192) records to radar_station\n",
      "city_info\n",
      "\tcities\n",
      "\tmovie_words_comparison\n",
      "\tpeople\n",
      "\tprogramming_languages\n",
      "programming_db\n",
      "movie\n",
      "\tmovie_table\n",
      "crud\n",
      "act2\n",
      "\tactor\n",
      "\tevr-import\n",
      "pets_db\n",
      "\towners\n",
      "\tpet_names\n",
      "\tpet_names_and_owners\n",
      "\tpet_names_updated\n",
      "\tservice\n",
      "foreignk_db\n",
      "\tcustomer\n",
      "\tcustomer_email\n",
      "\tcustomer_phone\n",
      "relationship_db\n",
      "\tcourses\n",
      "\tstudent_courses_junction\n",
      "\tstudents\n",
      "weather_wizards\n",
      "\thurricane_archive_summary_db\n",
      "\thurricane_archive_summary_staging\n",
      "\thurricane_details_staging\n",
      "\thurricane_summary\n",
      "\thurricane_summary_staging\n",
      "\timpact_type\n",
      "\tradar_station\n",
      "\tregion\n",
      "\tswdiws_nx3tvs_geojson\n",
      "\tweather_event\n",
      "\tweather_event_cost_impact\n",
      "\tweather_event_human_impact\n",
      "\tweather_event_radar\n",
      "\tweather_event_type\n"
     ]
    }
   ],
   "source": [
    "db_name='weather_wizards'\n",
    "\n",
    "sql_file = 'sql/updated_schema.sql'\n",
    "result = postgresRunSqlScript(db_name, sql_file)\n",
    "print(result)\n",
    "\n",
    "sql_file = 'sql/swdiws_nx3tvs.sql'\n",
    "result = postgresRunSqlScript(db_name, sql_file)\n",
    "print(result)\n",
    "\n",
    "table_name = 'swdiws_nx3tvs_geojson'\n",
    "file_location = 'data/swdiws_nx3tvs_geojson.csv'\n",
    "load_count = postgresImportFile(db_name, table_name, file_location, delimiter=',', headerline=True)  \n",
    "print (f\"Loaded {load_count} records to {table_name}\")     \n",
    "\n",
    "table_name = 'radar_station'\n",
    "file_location = 'data/radar_locations.csv'\n",
    "load_count = postgresImportFile(db_name, table_name, file_location, delimiter=',', headerline=True)  \n",
    "print (f\"Loaded {load_count} records to {table_name}\")\n",
    "\n",
    "databases = postgresListDatabases()\n",
    "for database in databases:\n",
    "    print(f\"{database}\")\n",
    "    tables = postgresListTables(database)\n",
    "    for table in tables:\n",
    "        print(f\"\\t{table}\")"
   ]
  },
  {
   "cell_type": "code",
   "execution_count": 39,
   "metadata": {},
   "outputs": [
    {
     "name": "stdout",
     "output_type": "stream",
     "text": [
      "Successfully executed 2 commands from sql/hurricane_summary_staging.sql.\n"
     ]
    }
   ],
   "source": [
    "db_name='weather_wizards'\n",
    "\n",
    "sql_file = 'sql/hurricane_summary_staging.sql'\n",
    "result = postgresRunSqlScript(db_name, sql_file)\n",
    "print(result)"
   ]
  },
  {
   "cell_type": "code",
   "execution_count": 40,
   "metadata": {},
   "outputs": [
    {
     "name": "stdout",
     "output_type": "stream",
     "text": [
      "Loaded ('Successfully imported 901 records from data/hurricane_summary.csv into hurricane_summary_staging.', 901) records to hurricane_summary_staging\n"
     ]
    }
   ],
   "source": [
    "table_name = 'hurricane_summary_staging'\n",
    "file_location = 'data/hurricane_summary.csv'\n",
    "load_count = postgresImportFile(db_name, table_name, file_location, delimiter=',', headerline=True)  \n",
    "print (f\"Loaded {load_count} records to {table_name}\")"
   ]
  },
  {
   "cell_type": "code",
   "execution_count": 41,
   "metadata": {},
   "outputs": [
    {
     "name": "stdout",
     "output_type": "stream",
     "text": [
      "Successfully executed 2 commands from sql/hurricane_details_staging.sql.\n"
     ]
    }
   ],
   "source": [
    "db_name='weather_wizards'\n",
    "\n",
    "sql_file = 'sql/hurricane_details_staging.sql'\n",
    "result = postgresRunSqlScript(db_name, sql_file)\n",
    "print(result)"
   ]
  },
  {
   "cell_type": "code",
   "execution_count": 42,
   "metadata": {},
   "outputs": [
    {
     "name": "stdout",
     "output_type": "stream",
     "text": [
      "Loaded ('Successfully imported 5001 records from data/hurricane_details.csv into hurricane_details_staging.', 5001) records to hurricane_details_staging\n"
     ]
    }
   ],
   "source": [
    "table_name = 'hurricane_details_staging'\n",
    "file_location = 'data/hurricane_details.csv'\n",
    "load_count = postgresImportFile(db_name, table_name, file_location, delimiter=',', headerline=True)  \n",
    "print (f\"Loaded {load_count} records to {table_name}\")"
   ]
  },
  {
   "cell_type": "code",
   "execution_count": 43,
   "metadata": {},
   "outputs": [
    {
     "name": "stdout",
     "output_type": "stream",
     "text": [
      "Loaded ('Successfully imported 7917 records from data/hurricane_details_retired.csv into hurricane_details_staging.', 7917) records to hurricane_details_staging\n"
     ]
    }
   ],
   "source": [
    "file_location = 'data/hurricane_details_retired.csv'\n",
    "load_count = postgresImportFile(db_name, table_name, file_location, delimiter=',', headerline=True)  \n",
    "print (f\"Loaded {load_count} records to {table_name}\")"
   ]
  },
  {
   "cell_type": "code",
   "execution_count": 44,
   "metadata": {},
   "outputs": [
    {
     "name": "stdout",
     "output_type": "stream",
     "text": [
      "Successfully executed 2 commands from sql/hurricane_archive_summary_staging.sql.\n"
     ]
    }
   ],
   "source": [
    "sql_file = 'sql/hurricane_archive_summary_staging.sql'\n",
    "result = postgresRunSqlScript(db_name, sql_file)\n",
    "print(result)"
   ]
  },
  {
   "cell_type": "code",
   "execution_count": 45,
   "metadata": {},
   "outputs": [
    {
     "name": "stdout",
     "output_type": "stream",
     "text": [
      "Loaded ('Successfully imported 168 records from data/hurricane_archive_summary.csv into hurricane_archive_summary_staging.', 168) records to hurricane_archive_summary_staging\n"
     ]
    }
   ],
   "source": [
    "table_name = 'hurricane_archive_summary_staging'\n",
    "file_location = 'data/hurricane_archive_summary.csv'\n",
    "load_count = postgresImportFile(db_name, table_name, file_location, delimiter=',', headerline=True)  \n",
    "print (f\"Loaded {load_count} records to {table_name}\")"
   ]
  },
  {
   "cell_type": "code",
   "execution_count": 46,
   "metadata": {},
   "outputs": [
    {
     "name": "stdout",
     "output_type": "stream",
     "text": [
      "<class 'pandas.core.frame.DataFrame'>\n",
      "RangeIndex: 33784 entries, 0 to 33783\n",
      "Data columns (total 6 columns):\n",
      " #   Column           Non-Null Count  Dtype  \n",
      "---  ------           --------------  -----  \n",
      " 0   city             33784 non-null  object \n",
      " 1   state            33784 non-null  object \n",
      " 2   zip              33784 non-null  object \n",
      " 3   population_size  33784 non-null  int32  \n",
      " 4   latitude         33784 non-null  float64\n",
      " 5   longitude        33784 non-null  float64\n",
      "dtypes: float64(2), int32(1), object(3)\n",
      "memory usage: 1.4+ MB\n"
     ]
    },
    {
     "data": {
      "text/plain": [
       "784"
      ]
     },
     "execution_count": 46,
     "metadata": {},
     "output_type": "execute_result"
    }
   ],
   "source": [
    "# https://simplemaps.com/data/us-zips\n",
    "\n",
    "db_name='weather_wizards'\n",
    "\n",
    "engine = create_engine(postgresGetCredentials(engine_type='sqlalchemy') + '/' + db_name)\n",
    "\n",
    "# Load the dataset\n",
    "zip_data = pd.read_csv('data/uszips.csv')\n",
    "# zip_data.info()\n",
    "zip_data_region = (\n",
    "    zip_data[['city', 'state_id', 'zip', 'population', 'lat', 'lng']]\n",
    "    .assign(\n",
    "        # Fill NaN in 'population' with 0 and convert to int\n",
    "        population=lambda zip_data: zip_data['population'].fillna(0).astype(int),\n",
    "        # Fill NaN in 'zip' with 0, convert to int, then to string and zero-fill to 5 digits\n",
    "        zip=lambda zip_data: zip_data['zip'].fillna(0).astype(int).astype(str).str.zfill(5)\n",
    "    )\n",
    "    .rename(columns={'state_id': 'state', 'zip_code': 'zip', 'population': 'population_size', 'lat': 'latitude', 'lng': 'longitude'})\n",
    ")\n",
    "\n",
    "zip_data_region.info()\n",
    "\n",
    "zip_data_region.to_sql('region', con=engine, if_exists='append', index=False)"
   ]
  }
 ],
 "metadata": {
  "kernelspec": {
   "display_name": "pythondata",
   "language": "python",
   "name": "python3"
  },
  "language_info": {
   "codemirror_mode": {
    "name": "ipython",
    "version": 3
   },
   "file_extension": ".py",
   "mimetype": "text/x-python",
   "name": "python",
   "nbconvert_exporter": "python",
   "pygments_lexer": "ipython3",
   "version": "3.10.14"
  }
 },
 "nbformat": 4,
 "nbformat_minor": 4
}
