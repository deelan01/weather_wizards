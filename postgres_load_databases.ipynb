{
 "cells": [
  {
   "cell_type": "code",
   "execution_count": 10,
   "metadata": {},
   "outputs": [],
   "source": [
    "# Local application imports\n",
    "from utils import postgresListDatabases, postgresListTables, postgresImportFile, postgresRunSqlScript"
   ]
  },
  {
   "cell_type": "code",
   "execution_count": 15,
   "metadata": {},
   "outputs": [
    {
     "name": "stdout",
     "output_type": "stream",
     "text": [
      "Successfully executed 4 commands from /Users/jhammans/Documents/RutgersBootcamp/GitHub/weather_wizards/sql/tornados_and_radars.sql.\n",
      "Loaded 2500 records to swdiws_nx3tvs_geojson\n",
      "Loaded 192 records to radar_locations\n",
      "animals_db\n",
      "\tcities\n",
      "\tpeople\n",
      "city_info\n",
      "\tactor\n",
      "\taddress\n",
      "\tarticles\n",
      "\tauthors\n",
      "\tcity\n",
      "\tcountry\n",
      "\tcustomer\n",
      "\tcustomer_list\n",
      "\tfilm\n",
      "\tfilm_actor\n",
      "\tinventory\n",
      "\tpayment\n",
      "\trental\n",
      "\tstaff\n",
      "\tstore\n",
      "ph_employees\n",
      "\tdepartments\n",
      "\tdept_emp\n",
      "\tdept_managers\n",
      "\temployees\n",
      "\tsalaries\n",
      "\ttitles\n",
      "pets_db\n",
      "\towner\n",
      "\tpet\n",
      "\tservice\n",
      "surfers\n",
      "\tmeasurement\n",
      "\tstation\n",
      "\tsurfboards\n",
      "\tsurfers\n",
      "crowdfunding_db\n",
      "weather_wizards\n",
      "\tradar_locations\n",
      "\tswdiws_nx3tvs_geojson\n"
     ]
    }
   ],
   "source": [
    "db_name='weather_wizards'\n",
    "\n",
    "sql_file = '/Users/jhammans/Documents/RutgersBootcamp/GitHub/weather_wizards/sql/tornados_and_radars.sql'\n",
    "result = postgresRunSqlScript(db_name, sql_file)\n",
    "print(result)\n",
    "\n",
    "table_name = 'swdiws_nx3tvs_geojson'\n",
    "file_location = '/Users/jhammans/Documents/RutgersBootcamp/GitHub/DataStormers/data/swdiws_nx3tvs_geojson.csv'\n",
    "load_count = postgresImportFile(db_name, table_name, file_location, delimiter=',', headerline=True)  \n",
    "print (f\"Loaded {load_count} records to {table_name}\")     \n",
    "\n",
    "table_name = 'radar_locations'\n",
    "file_location = '/Users/jhammans/Documents/RutgersBootcamp/GitHub/DataStormers/data/radar_locations.csv'\n",
    "load_count = postgresImportFile(db_name, table_name, file_location, delimiter=',', headerline=True)  \n",
    "print (f\"Loaded {load_count} records to {table_name}\")\n",
    "\n",
    "databases = postgresListDatabases()\n",
    "for database in databases:\n",
    "    print(f\"{database}\")\n",
    "    tables = postgresListTables(database)\n",
    "    for table in tables:\n",
    "        print(f\"\\t{table}\")"
   ]
  }
 ],
 "metadata": {
  "kernelspec": {
   "display_name": "pythondata",
   "language": "python",
   "name": "python3"
  },
  "language_info": {
   "codemirror_mode": {
    "name": "ipython",
    "version": 3
   },
   "file_extension": ".py",
   "mimetype": "text/x-python",
   "name": "python",
   "nbconvert_exporter": "python",
   "pygments_lexer": "ipython3",
   "version": "3.10.14"
  }
 },
 "nbformat": 4,
 "nbformat_minor": 4
}
