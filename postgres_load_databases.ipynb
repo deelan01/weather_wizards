{
 "cells": [
  {
   "cell_type": "code",
   "execution_count": 149,
   "metadata": {},
   "outputs": [],
   "source": [
    "# Import required libraries and custom utility functions\n",
    "from utils import postgresImportFile, postgresRunSqlScript, postgresGetCredentials\n",
    "import pandas as pd\n",
    "from sqlalchemy import create_engine"
   ]
  },
  {
   "cell_type": "code",
   "execution_count": null,
   "metadata": {},
   "outputs": [],
   "source": [
    "# Define the target database name\n",
    "db_name = 'weather_wizards'\n",
    "\n",
    "# Create and execute the main database schema\n",
    "sql_file = 'sql/weather_wizards_schema.sql'\n",
    "result = postgresRunSqlScript(db_name, sql_file)\n",
    "print(result)\n",
    "\n",
    "# Create and execute the hurricane staging schema\n",
    "# Staging tables are temporary tables used for data loading and transformation\n",
    "sql_file = 'sql/hurricane_staging_schema.sql'\n",
    "result = postgresRunSqlScript(db_name, sql_file)\n",
    "print(result)\n",
    "\n",
    "# Create and execute the tornado staging schema \n",
    "sql_file = 'sql/tornado_staging_schema.sql'\n",
    "result = postgresRunSqlScript(db_name, sql_file)\n",
    "print(result)"
   ]
  },
  {
   "cell_type": "code",
   "execution_count": null,
   "metadata": {},
   "outputs": [],
   "source": [
    "# Import data files configuration and execution\n",
    "# Structure: Each section loads specific weather-related data into staging tables\n",
    "\n",
    "# 1. Load tornado details into staging\n",
    "table_name = 'tornado_details_staging'\n",
    "file_location = 'data/tornado_details.csv'\n",
    "results = postgresImportFile(db_name, table_name, file_location, delimiter=',', headerline=True)  \n",
    "print (f\"{results}\")     "
   ]
  },
  {
   "cell_type": "code",
   "execution_count": null,
   "metadata": {},
   "outputs": [],
   "source": [
    "# 2. Load hurricane summary data into staging\n",
    "table_name = 'hurricane_summary_staging'\n",
    "file_location = 'data/hurricane_summary.csv'\n",
    "results = postgresImportFile(db_name, table_name, file_location, delimiter=',', headerline=True)  \n",
    "print (f\"{results}\")\n",
    "\n",
    "# 3. Load hurricane details into staging\n",
    "# Note: This table receives data from two sources - current and retired hurricanes\n",
    "table_name = 'hurricane_details_staging'\n",
    "file_location = 'data/hurricane_details.csv'\n",
    "results = postgresImportFile(db_name, table_name, file_location, delimiter=',', headerline=True)  \n",
    "print (f\"{results}\")\n",
    "\n",
    "# Load retired hurricane details into the same staging table\n",
    "file_location = 'data/hurricane_details_retired.csv'\n",
    "results = postgresImportFile(db_name, table_name, file_location, delimiter=',', headerline=True)  \n",
    "print (f\"{results}\")\n",
    "\n",
    "# 4. Load hurricane archive summary\n",
    "table_name = 'hurricane_archive_summary_staging'\n",
    "file_location = 'data/hurricane_archive_summary.csv'\n",
    "results = postgresImportFile(db_name, table_name, file_location, delimiter=',', headerline=True)  \n",
    "print (f\"{results}\")"
   ]
  },
  {
   "cell_type": "code",
   "execution_count": null,
   "metadata": {},
   "outputs": [],
   "source": [
    "# 5. Load radar station reference data\n",
    "# Note: This is reference data, not staging data\n",
    "table_name = 'radar_station'\n",
    "file_location = 'data/radar_locations.csv'\n",
    "results = postgresImportFile(db_name, table_name, file_location, delimiter=',', headerline=True)  \n",
    "print (f\"{results}\")"
   ]
  },
  {
   "cell_type": "code",
   "execution_count": null,
   "metadata": {},
   "outputs": [],
   "source": [
    "# Reference for zip code data source\n",
    "# https://simplemaps.com/data/us-zips\n",
    "\n",
    "# Create database connection using SQLAlchemy\n",
    "# Uses credentials from postgresGetCredentials utility function\n",
    "engine = create_engine(postgresGetCredentials(engine_type='sqlalchemy') + '/' + db_name)\n",
    "\n",
    "# Transform the ZIP code data:\n",
    "# 1. Select only needed columns\n",
    "# 2. Clean and standardize the data\n",
    "# 3. Rename columns to match database schema\n",
    "zip_data = pd.read_csv('data/uszips.csv')\n",
    "# zip_data.info()\n",
    "zip_data_region = (\n",
    "    # Select subset of columns we want to keep\n",
    "    zip_data[['city', 'state_id', 'zip', 'population', 'lat', 'lng']]\n",
    "    .assign(\n",
    "        # Clean population data:\n",
    "        # - Replace missing values with 0\n",
    "        # - Convert to integer type\n",
    "        population=lambda zip_data: zip_data['population'].fillna(0).astype(int),\n",
    "        # Clean ZIP code data:\n",
    "        # - Replace missing values with 0\n",
    "        # - Convert to string\n",
    "        # - Remove any potential whitespace\n",
    "        # - Pad with leading zeros to ensure 5 digits\n",
    "        zip=lambda zip_data: zip_data['zip'].fillna('0').astype(str).str.strip().str.zfill(5)\n",
    "    )\n",
    "    # Rename columns to match database schema naming conventions\n",
    "    .rename(columns={'state_id': 'state', \n",
    "                     'zip_code': 'zip', \n",
    "                     'population': 'population_size', \n",
    "                     'lat': 'latitude', \n",
    "                     'lng': 'longitude'})\n",
    ")\n",
    "\n",
    "# Import transformed data into PostgreSQL database:\n",
    "# - Table name: 'region'\n",
    "# - If table exists, append new data\n",
    "# - Don't include DataFrame index as a column\n",
    "zip_data_region.to_sql('region', con=engine, if_exists='append', index=False)"
   ]
  },
  {
   "cell_type": "code",
   "execution_count": null,
   "metadata": {},
   "outputs": [],
   "source": [
    "# Execute SQL script to transform data from staging tables into the main database schema\n",
    "# This script handles multiple transformations:\n",
    "\n",
    "#  Load storm tables from staging:\n",
    "#  - Transform and standardize tornado data from tornado_details_staging\n",
    "#  - Transform and combine hurricane data from:\n",
    "#    * hurricane_summary_staging\n",
    "#    * hurricane_details_staging\n",
    "#    * hurricane_archive_summary_staging\n",
    "#  - Apply data quality rules and standardization\n",
    "\n",
    "sql_file = 'sql/load_weather_tables.sql'\n",
    "result = postgresRunSqlScript(db_name, sql_file)\n",
    "print(result)"
   ]
  }
 ],
 "metadata": {
  "kernelspec": {
   "display_name": "pythondata",
   "language": "python",
   "name": "python3"
  },
  "language_info": {
   "codemirror_mode": {
    "name": "ipython",
    "version": 3
   },
   "file_extension": ".py",
   "mimetype": "text/x-python",
   "name": "python",
   "nbconvert_exporter": "python",
   "pygments_lexer": "ipython3",
   "version": "3.10.14"
  }
 },
 "nbformat": 4,
 "nbformat_minor": 4
}
