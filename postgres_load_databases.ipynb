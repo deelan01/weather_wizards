{
 "cells": [
  {
   "cell_type": "code",
   "execution_count": 3,
   "metadata": {},
   "outputs": [],
   "source": [
    "# Local application imports\n",
    "from utils import postgresImportFile, postgresRunSqlScript, postgresGetCredentials\n",
    "\n",
    "import pandas as pd\n",
    "from sqlalchemy import create_engine"
   ]
  },
  {
   "cell_type": "code",
   "execution_count": null,
   "metadata": {},
   "outputs": [],
   "source": [
    "db_name='weather_wizards'\n",
    "\n",
    "sql_file = 'sql/weather_wizards_schema.sql'\n",
    "result = postgresRunSqlScript(db_name, sql_file)\n",
    "print(result)\n",
    "\n",
    "sql_file = 'sql/hurricane_staging_schema.sql'\n",
    "result = postgresRunSqlScript(db_name, sql_file)\n",
    "print(result)\n",
    "\n",
    "sql_file = 'sql/tornado_staging_schema.sql'\n",
    "result = postgresRunSqlScript(db_name, sql_file)\n",
    "print(result)"
   ]
  },
  {
   "cell_type": "code",
   "execution_count": null,
   "metadata": {},
   "outputs": [],
   "source": [
    "table_name = 'tornado_details_staging'\n",
    "file_location = 'data/tornado_details.csv'\n",
    "results = postgresImportFile(db_name, table_name, file_location, delimiter=',', headerline=True)  \n",
    "print (f\"{results}\")     "
   ]
  },
  {
   "cell_type": "code",
   "execution_count": null,
   "metadata": {},
   "outputs": [],
   "source": [
    "table_name = 'hurricane_summary_staging'\n",
    "file_location = 'data/hurricane_summary.csv'\n",
    "results = postgresImportFile(db_name, table_name, file_location, delimiter=',', headerline=True)  \n",
    "print (f\"{results}\")\n",
    "\n",
    "table_name = 'hurricane_details_staging'\n",
    "file_location = 'data/hurricane_details.csv'\n",
    "results = postgresImportFile(db_name, table_name, file_location, delimiter=',', headerline=True)  \n",
    "print (f\"{results}\")\n",
    "\n",
    "file_location = 'data/hurricane_details_retired.csv'\n",
    "results = postgresImportFile(db_name, table_name, file_location, delimiter=',', headerline=True)  \n",
    "print (f\"{results}\")"
   ]
  },
  {
   "cell_type": "code",
   "execution_count": null,
   "metadata": {},
   "outputs": [],
   "source": [
    "table_name = 'radar_station'\n",
    "file_location = 'data/radar_locations.csv'\n",
    "results = postgresImportFile(db_name, table_name, file_location, delimiter=',', headerline=True)  \n",
    "print (f\"{results}\")"
   ]
  },
  {
   "cell_type": "code",
   "execution_count": null,
   "metadata": {},
   "outputs": [],
   "source": [
    "# https://simplemaps.com/data/us-zips\n",
    "\n",
    "db_name='weather_wizards'\n",
    "\n",
    "engine = create_engine(postgresGetCredentials(engine_type='sqlalchemy') + '/' + db_name)\n",
    "\n",
    "# Load the dataset\n",
    "zip_data = pd.read_csv('data/uszips.csv')\n",
    "# zip_data.info()\n",
    "zip_data_region = (\n",
    "    zip_data[['city', 'state_id', 'zip', 'population', 'lat', 'lng']]\n",
    "    .assign(\n",
    "        # Fill NaN in 'population' with 0 and convert to int\n",
    "        population=lambda zip_data: zip_data['population'].fillna(0).astype(int),\n",
    "        # Fill NaN in 'zip' with 0, convert to int, then to string and zero-fill to 5 digits\n",
    "        zip=lambda zip_data: zip_data['zip'].fillna(0).astype(int).astype(str).str.zfill(5)\n",
    "    )\n",
    "    .rename(columns={'state_id': 'state', 'zip_code': 'zip', 'population': 'population_size', 'lat': 'latitude', 'lng': 'longitude'})\n",
    ")\n",
    "\n",
    "# zip_data_region.info()\n",
    "\n",
    "zip_data_region.to_sql('region', con=engine, if_exists='append', index=False)"
   ]
  }
 ],
 "metadata": {
  "kernelspec": {
   "display_name": "pythondata",
   "language": "python",
   "name": "python3"
  },
  "language_info": {
   "codemirror_mode": {
    "name": "ipython",
    "version": 3
   },
   "file_extension": ".py",
   "mimetype": "text/x-python",
   "name": "python",
   "nbconvert_exporter": "python",
   "pygments_lexer": "ipython3",
   "version": "3.10.14"
  }
 },
 "nbformat": 4,
 "nbformat_minor": 4
}
